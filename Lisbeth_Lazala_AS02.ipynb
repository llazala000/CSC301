{
 "cells": [
  {
   "cell_type": "code",
   "execution_count": 2,
   "metadata": {
    "scrolled": true
   },
   "outputs": [
    {
     "name": "stdout",
     "output_type": "stream",
     "text": [
      "3141589.511992289\n",
      "31415923.40188582\n",
      "314159262.4826793\n",
      "3141592629.3527913\n"
     ]
    }
   ],
   "source": [
    "import math \n",
    "\n",
    "def naiveSum(n):\n",
    "    s=0\n",
    "    for i in range(1,n):\n",
    "        s += math.pi\n",
    "    print(s)\n",
    "\n",
    "naiveSum(10**6)\n",
    "naiveSum(10**7)\n",
    "naiveSum(10**8)\n",
    "naiveSum(10**9)      "
   ]
  },
  {
   "cell_type": "code",
   "execution_count": 3,
   "metadata": {},
   "outputs": [
    {
     "name": "stdout",
     "output_type": "stream",
     "text": [
      "3141589.5119971395\n",
      "31415923.394305278\n",
      "314159262.21738666\n",
      "3141592650.4482\n"
     ]
    }
   ],
   "source": [
    "def compSum(n):\n",
    "    s=0\n",
    "    e=0\n",
    "    for i in range(1,n):\n",
    "        temp = s\n",
    "        y= math.pi + e\n",
    "        s = temp + y \n",
    "        e = (temp - s) + y \n",
    "    s += e\n",
    "    print(s)\n",
    "    \n",
    "compSum(10**6)\n",
    "compSum(10**7)\n",
    "compSum(10**8)\n",
    "compSum(10**9)"
   ]
  },
  {
   "cell_type": "code",
   "execution_count": 4,
   "metadata": {},
   "outputs": [
    {
     "name": "stdout",
     "output_type": "stream",
     "text": [
      "3141589.511992289\n",
      "Elapsed time: 0.15683269500732422 s\n",
      "31415923.40188582\n",
      "Elapsed time: 0.8902797698974609 s\n",
      "314159262.4826793\n",
      "Elapsed time: 11.963200092315674 s\n",
      "3141592629.3527913\n",
      "Elapsed time: 152.41796207427979 s\n"
     ]
    }
   ],
   "source": [
    "import math \n",
    "import time\n",
    "\n",
    "def naiveSum(n):\n",
    "    s=0\n",
    "    start_time = time.time()\n",
    "    for i in range(1,n):\n",
    "        s += math.pi\n",
    "    end_time = time.time()\n",
    "    elapsed_time = end_time - start_time\n",
    "    print(s)\n",
    "    print(\"Elapsed time:\", elapsed_time, \"s\")\n",
    "\n",
    "naiveSum(10**6)\n",
    "naiveSum(10**7)\n",
    "naiveSum(10**8)\n",
    "naiveSum(10**9) "
   ]
  },
  {
   "cell_type": "code",
   "execution_count": 5,
   "metadata": {},
   "outputs": [
    {
     "name": "stdout",
     "output_type": "stream",
     "text": [
      "3141589.5119971395\n",
      "Time elapsed: 0.2795701026916504 s\n",
      "31415923.394305278\n",
      "Time elapsed: 2.9944586753845215 s\n",
      "314159262.21738666\n",
      "Time elapsed: 30.767893314361572 s\n",
      "3141592650.4482\n",
      "Time elapsed: 296.1316213607788 s\n"
     ]
    }
   ],
   "source": [
    "import math\n",
    "import time\n",
    "\n",
    "def compSum(n):\n",
    "    s=0\n",
    "    e=0\n",
    "    start_time = time.time()\n",
    "    for i in range(1,n):\n",
    "        temp = s\n",
    "        y= math.pi + e\n",
    "        s = temp + y \n",
    "        e = (temp - s) + y \n",
    "    s += e\n",
    "    end_time = time.time()\n",
    "    elapsed_time = end_time - start_time\n",
    "    print(s)\n",
    "    print(\"Time elapsed:\", elapsed_time, \"s\")\n",
    "    \n",
    "    \n",
    "compSum(10**6)\n",
    "compSum(10**7)\n",
    "compSum(10**8)\n",
    "compSum(10**9)"
   ]
  },
  {
   "cell_type": "code",
   "execution_count": 6,
   "metadata": {},
   "outputs": [
    {
     "name": "stdout",
     "output_type": "stream",
     "text": [
      "3141592.653589793\n",
      "31415926.535897933\n",
      "314159265.3589793\n",
      "3141592653.589793\n"
     ]
    }
   ],
   "source": [
    "import math\n",
    "\n",
    "def sum_n(n):\n",
    "    s = n * math.pi\n",
    "    print(s)\n",
    "    \n",
    "sum_n(10**6)\n",
    "sum_n(10**7)\n",
    "sum_n(10**8)\n",
    "sum_n(10**9)"
   ]
  },
  {
   "cell_type": "code",
   "execution_count": 7,
   "metadata": {},
   "outputs": [
    {
     "name": "stdout",
     "output_type": "stream",
     "text": [
      "Collecting package metadata: ...working... done\n",
      "Solving environment: ...working... done\n",
      "\n",
      "# All requested packages already installed.\n",
      "\n"
     ]
    }
   ],
   "source": [
    "import sys\n",
    "!conda install --yes --prefix {sys.prefix} tabulate\n"
   ]
  },
  {
   "cell_type": "code",
   "execution_count": 8,
   "metadata": {},
   "outputs": [
    {
     "name": "stdout",
     "output_type": "stream",
     "text": [
      "     Value    Naive Alg. Summation    Elapsed Time (s)    Absolute Error    Relative Error\n",
      "----------  ----------------------  ------------------  ----------------  ----------------\n",
      "   1000000             3.14159e+06            0.138926           3.1416        1e-06\n",
      "  10000000             3.14159e+07            1.78322            3.13401       9.97587e-08\n",
      " 100000000             3.14159e+08           13.4434             2.8763        9.15555e-09\n",
      "1000000000             3.14159e+09          135.358             24.237         7.71488e-09\n"
     ]
    }
   ],
   "source": [
    "from tabulate import tabulate\n",
    "import math \n",
    "import time\n",
    "\n",
    "ElapTime = list()\n",
    "AbsErr = list()\n",
    "RelErr = list()\n",
    "nSum = list()\n",
    "\n",
    "def naiveSum(n):\n",
    "    exact_val = n*math.pi\n",
    "    s=0\n",
    "    start_time = time.time()\n",
    "    for i in range(1,n):\n",
    "        s += math.pi\n",
    "    end_time = time.time()\n",
    "    elapsed_time = end_time - start_time\n",
    "    ElapTime.append(elapsed_time)\n",
    "    nSum.append(s)\n",
    "    abs_err = exact_val - s\n",
    "    AbsErr.append(abs_err)\n",
    "    RelErr.append(abs_err / s)\n",
    "\n",
    "naiveSum(10**6)\n",
    "naiveSum(10**7)\n",
    "naiveSum(10**8)\n",
    "naiveSum(10**9)\n",
    "\n",
    "print(tabulate([[10**6, nSum[0], ElapTime[0], AbsErr[0], RelErr[0]],\n",
    "                [10**7, nSum[1], ElapTime[1], AbsErr[1], RelErr[1]], \n",
    "                [10**8, nSum[2], ElapTime[2], AbsErr[2], RelErr[2]], \n",
    "                [10**9, nSum[3], ElapTime[3], AbsErr[3], RelErr[3]]], \n",
    "               headers=['Value','Naive Alg. Summation', 'Elapsed Time (s)', 'Absolute Error', \"Relative Error\"]))\n"
   ]
  },
  {
   "cell_type": "code",
   "execution_count": 10,
   "metadata": {},
   "outputs": [
    {
     "name": "stdout",
     "output_type": "stream",
     "text": [
      "     Value    Compensated Summation    Elapsed Time (s)    Absolute Error    Relative Error\n",
      "----------  -----------------------  ------------------  ----------------  ----------------\n",
      "   1000000              3.14159e+06            0.310701           3.14159             1e-06\n",
      "  10000000              3.14159e+07            3.38881            3.14159             1e-07\n",
      " 100000000              3.14159e+08           31.1382             3.14159             1e-08\n",
      "1000000000              3.14159e+09          293.431              3.14159             1e-09\n"
     ]
    }
   ],
   "source": [
    "from tabulate import tabulate\n",
    "import math \n",
    "import time\n",
    "\n",
    "ElapTime = list()\n",
    "AbsErr = list()\n",
    "RelErr = list()\n",
    "cSum = list()\n",
    "\n",
    "def compSum(n):\n",
    "    s=0\n",
    "    e=0\n",
    "    exact_val = n * math.pi\n",
    "    start_time = time.time()\n",
    "    for i in range(1,n):\n",
    "        temp = s\n",
    "        y= math.pi + e\n",
    "        s = temp + y \n",
    "        e = (temp - s) + y \n",
    "    s += e\n",
    "    end_time = time.time()\n",
    "    elapsed_time = end_time - start_time\n",
    "    ElapTime.append(elapsed_time)\n",
    "    cSum.append(s)\n",
    "    abs_err = exact_val - s\n",
    "    AbsErr.append(abs_err)\n",
    "    RelErr.append(abs_err / s)\n",
    "    \n",
    "    \n",
    "compSum(10**6)\n",
    "compSum(10**7)\n",
    "compSum(10**8)\n",
    "compSum(10**9)\n",
    "\n",
    "print(tabulate([[10**6, cSum[0], ElapTime[0], AbsErr[0], RelErr[0]],\n",
    "                [10**7, cSum[1], ElapTime[1], AbsErr[1], RelErr[1]], \n",
    "                [10**8, cSum[2], ElapTime[2], AbsErr[2], RelErr[2]], \n",
    "                [10**9, cSum[3], ElapTime[3], AbsErr[3], RelErr[3]]], \n",
    "               headers=['Value','Compensated Summation', 'Elapsed Time (s)', 'Absolute Error', \"Relative Error\"]))\n"
   ]
  },
  {
   "cell_type": "code",
   "execution_count": 11,
   "metadata": {},
   "outputs": [],
   "source": [
    "# The errors are consistent with the class presentations because it was discussed that the Compensated Summation was \n",
    "# developed with a correction term designed to eliminate rounding errors. It is evident from the tables that the absolute error\n",
    "# is maintained at 3.14159 in the Compensated Summation while it fluctuates in the Naive Algorithm Summation.\n",
    "# Additionally, the relative error is very small with the Compensated Summation method. By contrast,  the relative error is \n",
    "# larger with the Naive Algorithm Summation method. "
   ]
  },
  {
   "cell_type": "code",
   "execution_count": null,
   "metadata": {},
   "outputs": [],
   "source": []
  }
 ],
 "metadata": {
  "kernelspec": {
   "display_name": "Python 3",
   "language": "python",
   "name": "python3"
  },
  "language_info": {
   "codemirror_mode": {
    "name": "ipython",
    "version": 3
   },
   "file_extension": ".py",
   "mimetype": "text/x-python",
   "name": "python",
   "nbconvert_exporter": "python",
   "pygments_lexer": "ipython3",
   "version": "3.7.1"
  }
 },
 "nbformat": 4,
 "nbformat_minor": 2
}
